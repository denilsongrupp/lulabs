{
  "nbformat": 4,
  "nbformat_minor": 0,
  "metadata": {
    "colab": {
      "name": "luiza_lab.ipynb",
      "provenance": [],
      "collapsed_sections": []
    },
    "kernelspec": {
      "name": "python3",
      "display_name": "Python 3"
    },
    "language_info": {
      "name": "python"
    }
  },
  "cells": [
    {
      "cell_type": "markdown",
      "metadata": {
        "id": "w0AIGjfvSyyK"
      },
      "source": [
        "## Parte 1 - "
      ]
    },
    {
      "cell_type": "code",
      "metadata": {
        "id": "4EN43AvBEvp-"
      },
      "source": [
        "import requests\n",
        "\n",
        "r = requests.get(\"https://storage.googleapis.com/luizalabs-hiring-test/wordcount.txt\")\n",
        "txt = r.text\n",
        "wordfreq = []\n",
        "ate = 0\n",
        "mais = 0\n",
        "\n",
        "for w in txt.split():\n",
        "    wordfreq.append({w:txt.count(w)})\n",
        "    if len(w) <= 10:\n",
        "      ate +=1\n",
        "    else:\n",
        "      mais +=1\n",
        "wordfreq.append({\"MAIORES QUE 10\":mais})\n",
        "wordfreq.append({\"ATÉ 10\":ate}) \n"
      ],
      "execution_count": 2,
      "outputs": []
    },
    {
      "cell_type": "markdown",
      "metadata": {
        "id": "LIHK2JIRK0kC"
      },
      "source": [
        "## Grava dados"
      ]
    },
    {
      "cell_type": "code",
      "metadata": {
        "id": "tlIi3olzFJqR"
      },
      "source": [
        "f=open('frequencia.txt','w')\n",
        "l1=map(lambda x:str(x)+'\\n', wordfreq)\n",
        "f.writelines(l1)\n",
        "f.close()"
      ],
      "execution_count": 5,
      "outputs": []
    },
    {
      "cell_type": "markdown",
      "metadata": {
        "id": "5KLewQgSTNFj"
      },
      "source": [
        "## Instalando o spark no meu notebook e criando uma sessão\n"
      ]
    },
    {
      "cell_type": "code",
      "metadata": {
        "colab": {
          "base_uri": "https://localhost:8080/"
        },
        "id": "9BEhBs62GXo7",
        "outputId": "3321d6c1-743b-411e-a8a1-a838e6bc3fc4"
      },
      "source": [
        "%%sh\n",
        "sudo pip install spark\n",
        "sudo pip install pyspark"
      ],
      "execution_count": 9,
      "outputs": [
        {
          "output_type": "stream",
          "text": [
            "Collecting spark\n",
            "  Downloading https://files.pythonhosted.org/packages/59/7c/81b89b63927d7b24be7cbd61eabf90a28458bac90ff12531edd56d76ad61/spark-0.2.1.tar.gz (41kB)\n",
            "Building wheels for collected packages: spark\n",
            "  Building wheel for spark (setup.py): started\n",
            "  Building wheel for spark (setup.py): finished with status 'done'\n",
            "  Created wheel for spark: filename=spark-0.2.1-cp37-none-any.whl size=58740 sha256=970f6c7c2873f7eee5500fcc8461aadb9a141034c1507b92faf667693f7d80e0\n",
            "  Stored in directory: /root/.cache/pip/wheels/57/a3/24/7c4c81b1cc5e82ad386965d2808543c4f5306b759da26e5629\n",
            "Successfully built spark\n",
            "Installing collected packages: spark\n",
            "Successfully installed spark-0.2.1\n",
            "Collecting pyspark\n",
            "  Downloading https://files.pythonhosted.org/packages/45/b0/9d6860891ab14a39d4bddf80ba26ce51c2f9dc4805e5c6978ac0472c120a/pyspark-3.1.1.tar.gz (212.3MB)\n",
            "Collecting py4j==0.10.9\n",
            "  Downloading https://files.pythonhosted.org/packages/9e/b6/6a4fb90cd235dc8e265a6a2067f2a2c99f0d91787f06aca4bcf7c23f3f80/py4j-0.10.9-py2.py3-none-any.whl (198kB)\n",
            "Building wheels for collected packages: pyspark\n",
            "  Building wheel for pyspark (setup.py): started\n",
            "  Building wheel for pyspark (setup.py): finished with status 'done'\n",
            "  Created wheel for pyspark: filename=pyspark-3.1.1-py2.py3-none-any.whl size=212767604 sha256=68927f04ca0563c2b487d30ad811657dc78c1cf47afdf9518d2edf7b1f849054\n",
            "  Stored in directory: /root/.cache/pip/wheels/0b/90/c0/01de724414ef122bd05f056541fb6a0ecf47c7ca655f8b3c0f\n",
            "Successfully built pyspark\n",
            "Installing collected packages: py4j, pyspark\n",
            "Successfully installed py4j-0.10.9 pyspark-3.1.1\n"
          ],
          "name": "stdout"
        }
      ]
    },
    {
      "cell_type": "code",
      "metadata": {
        "id": "RfrAI2X4Ju8j"
      },
      "source": [
        "import pandas as pd\n",
        "import spark,pyspark\n",
        "from pyspark.sql import *\n",
        "from pyspark.sql import functions as f\n",
        "from pyspark.sql import types as t\n",
        "from pyspark.sql.functions import col,when,lit,row_number\n",
        "from pyspark.sql.window import Window\n",
        "from datetime import date\n",
        "\n",
        "config = pyspark.SparkConf().setAll([('spark.executor.memory', '8g'),\\\n",
        "                                     ('spark.executor.cores', '3'),\\\n",
        "                                     ('spark.cores.max', '3'),\\\n",
        "                                     ('spark.driver.memory','8g')                             \n",
        "                                     ] )\n",
        " \n",
        "#sc = pyspark.SparkContext(conf=config)\n",
        "import pandas as pd\n",
        "spark = SparkSession.builder.config(conf=config).getOrCreate()"
      ],
      "execution_count": 10,
      "outputs": []
    },
    {
      "cell_type": "markdown",
      "metadata": {
        "id": "m0GBZpanTUqC"
      },
      "source": [
        "## Criei um arquivo contendo as datas das ultimas blackfridays de 2018,2019 e 2020, solução muito mais maleável, para adicionar futuras datas sem ficar inserindo valores no código. o Arquivo é blackfriday.txt"
      ]
    },
    {
      "cell_type": "code",
      "metadata": {
        "id": "fUrqBTmrNY_Y"
      },
      "source": [
        "bf = spark.read.format(\"csv\").option(\"header\",\"true\").load(\"blackfriday.txt\")"
      ],
      "execution_count": 11,
      "outputs": []
    },
    {
      "cell_type": "markdown",
      "metadata": {
        "id": "oqoBqGOPTj-C"
      },
      "source": [
        "## Leitura do csv e tratamento na tipagem dos campos data_pedido e data_nascimento_cliente_dt"
      ]
    },
    {
      "cell_type": "code",
      "metadata": {
        "colab": {
          "base_uri": "https://localhost:8080/"
        },
        "id": "fYr8YsOZJxfl",
        "outputId": "e84f0a40-fff4-4836-8d6d-64085699599d"
      },
      "source": [
        "df = spark.read.format(\"csv\").option(\"header\",\"true\").load(\"clientes_pedidos.csv\")\n",
        "#Conventertendo para data\n",
        "df = df.withColumn(\"data_pedido\",f.from_unixtime('data_pedido').cast(t.DateType()))\n",
        "df = df.withColumn(\"data_nascimento_cliente_dt\",df.data_nascimento_cliente.cast(t.DateType()))\n",
        "#Idade\n",
        "df = df.withColumn(\"idade\",((f.months_between(f.lit(date.today()),df.data_nascimento_cliente_dt)/12).cast(t.IntegerType())))\n",
        "#Join black friday\n",
        "df = df.join(bf,(df.data_pedido==bf.data),how='left')\n",
        "df.show(10)"
      ],
      "execution_count": 14,
      "outputs": [
        {
          "output_type": "stream",
          "text": [
            "+--------------------+--------------------+-----------------------+-----------+--------------------------+-----+----------+------+\n",
            "|       codigo_pedido|      codigo_cliente|data_nascimento_cliente|data_pedido|data_nascimento_cliente_dt|idade|      data|flg_bf|\n",
            "+--------------------+--------------------+-----------------------+-----------+--------------------------+-----+----------+------+\n",
            "|bc8b03a005d5bf742...|b07af86a4a6870737...|    1985-12-04 00:00:00| 2018-11-23|                1985-12-04|   35|2018-11-23|     1|\n",
            "|19b0583adf75322cc...|eaaf6b26ef3b9712e...|    1979-11-14 00:00:00| 2018-11-23|                1979-11-14|   41|2018-11-23|     1|\n",
            "|58fafb698b6d343e0...|c69f2ab5fc61484d7...|    1989-07-25 00:00:00| 2018-11-23|                1989-07-25|   31|2018-11-23|     1|\n",
            "|79dd9f6c88ba32c97...|b4067845511997517...|    1953-12-14 00:00:00| 2018-11-23|                1953-12-14|   67|2018-11-23|     1|\n",
            "|968806d40adf6aa8c...|7eecbc06bfec32b80...|    1985-05-03 00:00:00| 2018-11-23|                1985-05-03|   35|2018-11-23|     1|\n",
            "|b8c6e74cf1b462489...|f240c43e82dfe3ca0...|    1980-04-16 00:00:00| 2018-11-23|                1980-04-16|   40|2018-11-23|     1|\n",
            "|5d91ea3b69a22d55b...|ae03fddbb707cb739...|    1991-11-18 00:00:00| 2018-11-23|                1991-11-18|   29|2018-11-23|     1|\n",
            "|5e48766af0ffdfb60...|156f291101e8ba36b...|    1974-01-04 00:00:00| 2018-11-23|                1974-01-04|   47|2018-11-23|     1|\n",
            "|f85c3fdcb417a3431...|4cf8efefa3c5aef67...|    1985-04-18 00:00:00| 2018-11-23|                1985-04-18|   35|2018-11-23|     1|\n",
            "|8ff2a83de50bb0695...|772b6ad0ae61400f6...|    1981-09-15 00:00:00| 2018-11-23|                1981-09-15|   39|2018-11-23|     1|\n",
            "+--------------------+--------------------+-----------------------+-----------+--------------------------+-----+----------+------+\n",
            "only showing top 10 rows\n",
            "\n"
          ],
          "name": "stdout"
        }
      ]
    },
    {
      "cell_type": "markdown",
      "metadata": {
        "id": "vPVJ2zx_Sgip"
      },
      "source": [
        "## Cliente com mais de 2 compras na black friday. "
      ]
    },
    {
      "cell_type": "code",
      "metadata": {
        "id": "V5WMDJEBJ79U"
      },
      "source": [
        "df = df.withColumn(\"compras_bf\",f.sum(df.flg_bf).over(Window.partitionBy(\"codigo_cliente\")))\n",
        "df_black = df.where(df.compras_bf>2).toPandas()\n",
        "df_black.to_csv(\"black_friday.csv\")"
      ],
      "execution_count": 15,
      "outputs": []
    },
    {
      "cell_type": "code",
      "metadata": {
        "id": "hVij9RVoK7rp"
      },
      "source": [
        " #df pedidos dos clientes menores que trinta\n",
        " df_3 = df.where(df.idade<30)\n",
        " df_31 = df_3.groupBy(df_3.codigo_cliente,df_3.idade).agg(\n",
        "     f.count(df_3.codigo_pedido).alias(\"numero_pedido\"),\n",
        "     f.collect_list(f.struct(df_3.codigo_pedido,df_3.data_pedido)\n",
        " ).alias(\"lista_pedidos\"))\n",
        " df_32 = df_31.toPandas()\n",
        " df_32.to_csv(\"menores_30.csv\")"
      ],
      "execution_count": 16,
      "outputs": []
    },
    {
      "cell_type": "code",
      "metadata": {
        "colab": {
          "base_uri": "https://localhost:8080/",
          "height": 347
        },
        "id": "9ci1VOuPSL-7",
        "outputId": "acaf70ee-517e-4c24-a4de-7ce5dc20ff28"
      },
      "source": [
        "df_32.head(10)"
      ],
      "execution_count": 17,
      "outputs": [
        {
          "output_type": "execute_result",
          "data": {
            "text/html": [
              "<div>\n",
              "<style scoped>\n",
              "    .dataframe tbody tr th:only-of-type {\n",
              "        vertical-align: middle;\n",
              "    }\n",
              "\n",
              "    .dataframe tbody tr th {\n",
              "        vertical-align: top;\n",
              "    }\n",
              "\n",
              "    .dataframe thead th {\n",
              "        text-align: right;\n",
              "    }\n",
              "</style>\n",
              "<table border=\"1\" class=\"dataframe\">\n",
              "  <thead>\n",
              "    <tr style=\"text-align: right;\">\n",
              "      <th></th>\n",
              "      <th>codigo_cliente</th>\n",
              "      <th>idade</th>\n",
              "      <th>numero_pedido</th>\n",
              "      <th>lista_pedidos</th>\n",
              "    </tr>\n",
              "  </thead>\n",
              "  <tbody>\n",
              "    <tr>\n",
              "      <th>0</th>\n",
              "      <td>02a4cd7d6c37a0770416363e59390bad</td>\n",
              "      <td>27</td>\n",
              "      <td>2</td>\n",
              "      <td>[(adb6a53bbe487c656628461abb5cec16, 2018-11-12...</td>\n",
              "    </tr>\n",
              "    <tr>\n",
              "      <th>1</th>\n",
              "      <td>032a20d224caa31477831266a2202eba</td>\n",
              "      <td>28</td>\n",
              "      <td>1</td>\n",
              "      <td>[(faa14a28d0a3d09c5e7a533958b7909c, 2018-11-04)]</td>\n",
              "    </tr>\n",
              "    <tr>\n",
              "      <th>2</th>\n",
              "      <td>03a9b7854cd9f6d46562ef8f84dd80ca</td>\n",
              "      <td>23</td>\n",
              "      <td>2</td>\n",
              "      <td>[(37d31c1484118912f1e048c43b496821, 2017-11-11...</td>\n",
              "    </tr>\n",
              "    <tr>\n",
              "      <th>3</th>\n",
              "      <td>049b1269d968f4952fe9887acfa592f4</td>\n",
              "      <td>29</td>\n",
              "      <td>1</td>\n",
              "      <td>[(4ea0a0b7d051bb29ed2a661eb9830fcf, 2017-11-17)]</td>\n",
              "    </tr>\n",
              "    <tr>\n",
              "      <th>4</th>\n",
              "      <td>053826e38b608939a12712598f39a2a5</td>\n",
              "      <td>15</td>\n",
              "      <td>2</td>\n",
              "      <td>[(ab0a5c3e6fe3fe612c8211adcff17011, 2018-11-10...</td>\n",
              "    </tr>\n",
              "    <tr>\n",
              "      <th>5</th>\n",
              "      <td>0558f208136b714657dccede42c78608</td>\n",
              "      <td>24</td>\n",
              "      <td>1</td>\n",
              "      <td>[(db5a6f48100653ae5c61bc773ee9fd5e, 2017-11-20)]</td>\n",
              "    </tr>\n",
              "    <tr>\n",
              "      <th>6</th>\n",
              "      <td>06ac89bb75cd6978f4ef188dc63b8292</td>\n",
              "      <td>23</td>\n",
              "      <td>1</td>\n",
              "      <td>[(5113f7f8e23479ae2145da040cb529e3, 2018-11-03)]</td>\n",
              "    </tr>\n",
              "    <tr>\n",
              "      <th>7</th>\n",
              "      <td>06fb19472c334d63684bfe846ea9a052</td>\n",
              "      <td>21</td>\n",
              "      <td>1</td>\n",
              "      <td>[(fc652e5c7e814e87761ccd7349cb846c, 2018-11-22)]</td>\n",
              "    </tr>\n",
              "    <tr>\n",
              "      <th>8</th>\n",
              "      <td>09afe57a723c26e5479757b5e341205e</td>\n",
              "      <td>28</td>\n",
              "      <td>1</td>\n",
              "      <td>[(cd1da80a9e4a2e3ec7782539e68a9928, 2018-11-16)]</td>\n",
              "    </tr>\n",
              "    <tr>\n",
              "      <th>9</th>\n",
              "      <td>09b328c784f492911318f21b6eadf244</td>\n",
              "      <td>25</td>\n",
              "      <td>1</td>\n",
              "      <td>[(b3ab7b91d29f08dcf7f83d8d9efbc4fb, 2017-11-27)]</td>\n",
              "    </tr>\n",
              "  </tbody>\n",
              "</table>\n",
              "</div>"
            ],
            "text/plain": [
              "                     codigo_cliente  ...                                      lista_pedidos\n",
              "0  02a4cd7d6c37a0770416363e59390bad  ...  [(adb6a53bbe487c656628461abb5cec16, 2018-11-12...\n",
              "1  032a20d224caa31477831266a2202eba  ...   [(faa14a28d0a3d09c5e7a533958b7909c, 2018-11-04)]\n",
              "2  03a9b7854cd9f6d46562ef8f84dd80ca  ...  [(37d31c1484118912f1e048c43b496821, 2017-11-11...\n",
              "3  049b1269d968f4952fe9887acfa592f4  ...   [(4ea0a0b7d051bb29ed2a661eb9830fcf, 2017-11-17)]\n",
              "4  053826e38b608939a12712598f39a2a5  ...  [(ab0a5c3e6fe3fe612c8211adcff17011, 2018-11-10...\n",
              "5  0558f208136b714657dccede42c78608  ...   [(db5a6f48100653ae5c61bc773ee9fd5e, 2017-11-20)]\n",
              "6  06ac89bb75cd6978f4ef188dc63b8292  ...   [(5113f7f8e23479ae2145da040cb529e3, 2018-11-03)]\n",
              "7  06fb19472c334d63684bfe846ea9a052  ...   [(fc652e5c7e814e87761ccd7349cb846c, 2018-11-22)]\n",
              "8  09afe57a723c26e5479757b5e341205e  ...   [(cd1da80a9e4a2e3ec7782539e68a9928, 2018-11-16)]\n",
              "9  09b328c784f492911318f21b6eadf244  ...   [(b3ab7b91d29f08dcf7f83d8d9efbc4fb, 2017-11-27)]\n",
              "\n",
              "[10 rows x 4 columns]"
            ]
          },
          "metadata": {
            "tags": []
          },
          "execution_count": 17
        }
      ]
    },
    {
      "cell_type": "code",
      "metadata": {
        "id": "Opv3rFd0YoPB"
      },
      "source": [
        ""
      ],
      "execution_count": null,
      "outputs": []
    }
  ]
}